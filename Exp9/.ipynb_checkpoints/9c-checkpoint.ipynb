{
 "cells": [
  {
   "cell_type": "code",
   "execution_count": 51,
   "id": "446e47d5",
   "metadata": {},
   "outputs": [],
   "source": [
    "import numpy as np\n",
    "import matplotlib.pyplot as plt\n",
    "import pandas as pd"
   ]
  },
  {
   "cell_type": "code",
   "execution_count": 11,
   "id": "71027845",
   "metadata": {},
   "outputs": [],
   "source": [
    "data = pd.read_csv('dow_jones_index.csv')"
   ]
  },
  {
   "cell_type": "code",
   "execution_count": 12,
   "id": "aa21187b",
   "metadata": {},
   "outputs": [
    {
     "name": "stderr",
     "output_type": "stream",
     "text": [
      "C:\\Users\\HP\\AppData\\Local\\Temp\\ipykernel_5764\\598260326.py:1: FutureWarning: The default value of regex will change from True to False in a future version. In addition, single character regular expressions will *not* be treated as literal strings when regex=True.\n",
      "  data['high'] = data['high'].str.replace('$', '')\n",
      "C:\\Users\\HP\\AppData\\Local\\Temp\\ipykernel_5764\\598260326.py:2: FutureWarning: The default value of regex will change from True to False in a future version. In addition, single character regular expressions will *not* be treated as literal strings when regex=True.\n",
      "  data['open'] = data['open'].str.replace('$', '')\n",
      "C:\\Users\\HP\\AppData\\Local\\Temp\\ipykernel_5764\\598260326.py:3: FutureWarning: The default value of regex will change from True to False in a future version. In addition, single character regular expressions will *not* be treated as literal strings when regex=True.\n",
      "  data['low'] = data['low'].str.replace('$', '')\n",
      "C:\\Users\\HP\\AppData\\Local\\Temp\\ipykernel_5764\\598260326.py:4: FutureWarning: The default value of regex will change from True to False in a future version. In addition, single character regular expressions will *not* be treated as literal strings when regex=True.\n",
      "  data['close'] = data['close'].str.replace('$', '')\n",
      "C:\\Users\\HP\\AppData\\Local\\Temp\\ipykernel_5764\\598260326.py:5: FutureWarning: The default value of regex will change from True to False in a future version. In addition, single character regular expressions will *not* be treated as literal strings when regex=True.\n",
      "  data['next_weeks_open'] = data['next_weeks_open'].str.replace('$', '')\n",
      "C:\\Users\\HP\\AppData\\Local\\Temp\\ipykernel_5764\\598260326.py:6: FutureWarning: The default value of regex will change from True to False in a future version. In addition, single character regular expressions will *not* be treated as literal strings when regex=True.\n",
      "  data['next_weeks_close'] = data['next_weeks_close'].str.replace('$', '')\n"
     ]
    }
   ],
   "source": [
    "data['high'] = data['high'].str.replace('$', '')\n",
    "data['open'] = data['open'].str.replace('$', '')\n",
    "data['low'] = data['low'].str.replace('$', '')\n",
    "data['close'] = data['close'].str.replace('$', '')\n",
    "data['next_weeks_open'] = data['next_weeks_open'].str.replace('$', '')\n",
    "data['next_weeks_close'] = data['next_weeks_close'].str.replace('$', '')"
   ]
  },
  {
   "cell_type": "code",
   "execution_count": 17,
   "id": "ab6f48c3",
   "metadata": {},
   "outputs": [],
   "source": [
    "data['high']=pd.to_numeric(data['high'])\n",
    "data['open']=pd.to_numeric(data['open'])\n",
    "data['low']=pd.to_numeric(data['low'])\n",
    "data['close']=pd.to_numeric(data['close'])\n",
    "data['next_weeks_open']=pd.to_numeric(data['next_weeks_open'])\n",
    "data['next_weeks_close']=pd.to_numeric(data['next_weeks_close']) "
   ]
  },
  {
   "cell_type": "code",
   "execution_count": 18,
   "id": "f7abe80f",
   "metadata": {},
   "outputs": [
    {
     "data": {
      "text/plain": [
       "quarter                               0\n",
       "stock                                 0\n",
       "date                                  0\n",
       "open                                  0\n",
       "high                                  0\n",
       "low                                   0\n",
       "close                                 0\n",
       "volume                                0\n",
       "percent_change_price                  0\n",
       "percent_change_volume_over_last_wk    0\n",
       "previous_weeks_volume                 0\n",
       "next_weeks_open                       0\n",
       "next_weeks_close                      0\n",
       "percent_change_next_weeks_price       0\n",
       "days_to_next_dividend                 0\n",
       "percent_return_next_dividend          0\n",
       "dtype: int64"
      ]
     },
     "execution_count": 18,
     "metadata": {},
     "output_type": "execute_result"
    }
   ],
   "source": [
    "data.isnull().sum()"
   ]
  },
  {
   "cell_type": "code",
   "execution_count": 19,
   "id": "fcb7da32",
   "metadata": {},
   "outputs": [],
   "source": [
    "data['percent_change_volume_over_last_wk'].fillna(value=0,inplace=True)\n",
    "data['previous_weeks_volume'].fillna(value=0,inplace=True)"
   ]
  },
  {
   "cell_type": "code",
   "execution_count": 53,
   "id": "8727aaf1",
   "metadata": {},
   "outputs": [
    {
     "data": {
      "text/plain": [
       "array([ 0,  1,  2,  3,  4,  5,  6,  7,  8,  9, 10, 11, 12, 13, 14, 15, 17,\n",
       "       16, 18, 19, 20, 21, 22, 23, 24, 25, 26, 27, 28, 29])"
      ]
     },
     "execution_count": 53,
     "metadata": {},
     "output_type": "execute_result"
    }
   ],
   "source": [
    "from sklearn.preprocessing import LabelEncoder\n",
    "encoder=LabelEncoder()\n",
    "data['stock']=encoder.fit_transform(data['stock'])\n",
    "data['stock'].unique()"
   ]
  },
  {
   "cell_type": "code",
   "execution_count": 54,
   "id": "377cd7da",
   "metadata": {},
   "outputs": [
    {
     "data": {
      "text/html": [
       "<div>\n",
       "<style scoped>\n",
       "    .dataframe tbody tr th:only-of-type {\n",
       "        vertical-align: middle;\n",
       "    }\n",
       "\n",
       "    .dataframe tbody tr th {\n",
       "        vertical-align: top;\n",
       "    }\n",
       "\n",
       "    .dataframe thead th {\n",
       "        text-align: right;\n",
       "    }\n",
       "</style>\n",
       "<table border=\"1\" class=\"dataframe\">\n",
       "  <thead>\n",
       "    <tr style=\"text-align: right;\">\n",
       "      <th></th>\n",
       "      <th>quarter</th>\n",
       "      <th>stock</th>\n",
       "      <th>date</th>\n",
       "      <th>open</th>\n",
       "      <th>high</th>\n",
       "      <th>low</th>\n",
       "      <th>close</th>\n",
       "      <th>volume</th>\n",
       "      <th>percent_change_price</th>\n",
       "      <th>percent_change_volume_over_last_wk</th>\n",
       "      <th>previous_weeks_volume</th>\n",
       "      <th>next_weeks_open</th>\n",
       "      <th>next_weeks_close</th>\n",
       "      <th>percent_change_next_weeks_price</th>\n",
       "      <th>days_to_next_dividend</th>\n",
       "      <th>percent_return_next_dividend</th>\n",
       "    </tr>\n",
       "  </thead>\n",
       "  <tbody>\n",
       "    <tr>\n",
       "      <th>0</th>\n",
       "      <td>1</td>\n",
       "      <td>0</td>\n",
       "      <td>1/7/2011</td>\n",
       "      <td>15.82</td>\n",
       "      <td>16.72</td>\n",
       "      <td>15.78</td>\n",
       "      <td>16.42</td>\n",
       "      <td>239655616</td>\n",
       "      <td>3.79267</td>\n",
       "      <td>0.000000</td>\n",
       "      <td>0.0</td>\n",
       "      <td>16.71</td>\n",
       "      <td>15.97</td>\n",
       "      <td>-4.428490</td>\n",
       "      <td>26</td>\n",
       "      <td>0.182704</td>\n",
       "    </tr>\n",
       "    <tr>\n",
       "      <th>1</th>\n",
       "      <td>1</td>\n",
       "      <td>0</td>\n",
       "      <td>1/14/2011</td>\n",
       "      <td>16.71</td>\n",
       "      <td>16.71</td>\n",
       "      <td>15.64</td>\n",
       "      <td>15.97</td>\n",
       "      <td>242963398</td>\n",
       "      <td>-4.42849</td>\n",
       "      <td>1.380223</td>\n",
       "      <td>239655616.0</td>\n",
       "      <td>16.19</td>\n",
       "      <td>15.79</td>\n",
       "      <td>-2.470660</td>\n",
       "      <td>19</td>\n",
       "      <td>0.187852</td>\n",
       "    </tr>\n",
       "    <tr>\n",
       "      <th>2</th>\n",
       "      <td>1</td>\n",
       "      <td>0</td>\n",
       "      <td>1/21/2011</td>\n",
       "      <td>16.19</td>\n",
       "      <td>16.38</td>\n",
       "      <td>15.60</td>\n",
       "      <td>15.79</td>\n",
       "      <td>138428495</td>\n",
       "      <td>-2.47066</td>\n",
       "      <td>-43.024959</td>\n",
       "      <td>242963398.0</td>\n",
       "      <td>15.87</td>\n",
       "      <td>16.13</td>\n",
       "      <td>1.638310</td>\n",
       "      <td>12</td>\n",
       "      <td>0.189994</td>\n",
       "    </tr>\n",
       "    <tr>\n",
       "      <th>3</th>\n",
       "      <td>1</td>\n",
       "      <td>0</td>\n",
       "      <td>1/28/2011</td>\n",
       "      <td>15.87</td>\n",
       "      <td>16.63</td>\n",
       "      <td>15.82</td>\n",
       "      <td>16.13</td>\n",
       "      <td>151379173</td>\n",
       "      <td>1.63831</td>\n",
       "      <td>9.355500</td>\n",
       "      <td>138428495.0</td>\n",
       "      <td>16.18</td>\n",
       "      <td>17.14</td>\n",
       "      <td>5.933250</td>\n",
       "      <td>5</td>\n",
       "      <td>0.185989</td>\n",
       "    </tr>\n",
       "    <tr>\n",
       "      <th>4</th>\n",
       "      <td>1</td>\n",
       "      <td>0</td>\n",
       "      <td>2/4/2011</td>\n",
       "      <td>16.18</td>\n",
       "      <td>17.39</td>\n",
       "      <td>16.18</td>\n",
       "      <td>17.14</td>\n",
       "      <td>154387761</td>\n",
       "      <td>5.93325</td>\n",
       "      <td>1.987452</td>\n",
       "      <td>151379173.0</td>\n",
       "      <td>17.33</td>\n",
       "      <td>17.37</td>\n",
       "      <td>0.230814</td>\n",
       "      <td>97</td>\n",
       "      <td>0.175029</td>\n",
       "    </tr>\n",
       "    <tr>\n",
       "      <th>...</th>\n",
       "      <td>...</td>\n",
       "      <td>...</td>\n",
       "      <td>...</td>\n",
       "      <td>...</td>\n",
       "      <td>...</td>\n",
       "      <td>...</td>\n",
       "      <td>...</td>\n",
       "      <td>...</td>\n",
       "      <td>...</td>\n",
       "      <td>...</td>\n",
       "      <td>...</td>\n",
       "      <td>...</td>\n",
       "      <td>...</td>\n",
       "      <td>...</td>\n",
       "      <td>...</td>\n",
       "      <td>...</td>\n",
       "    </tr>\n",
       "    <tr>\n",
       "      <th>745</th>\n",
       "      <td>2</td>\n",
       "      <td>29</td>\n",
       "      <td>5/27/2011</td>\n",
       "      <td>80.22</td>\n",
       "      <td>82.63</td>\n",
       "      <td>80.07</td>\n",
       "      <td>82.63</td>\n",
       "      <td>68230855</td>\n",
       "      <td>3.00424</td>\n",
       "      <td>-21.355713</td>\n",
       "      <td>86758820.0</td>\n",
       "      <td>83.28</td>\n",
       "      <td>81.18</td>\n",
       "      <td>-2.521610</td>\n",
       "      <td>75</td>\n",
       "      <td>0.568801</td>\n",
       "    </tr>\n",
       "    <tr>\n",
       "      <th>746</th>\n",
       "      <td>2</td>\n",
       "      <td>29</td>\n",
       "      <td>6/3/2011</td>\n",
       "      <td>83.28</td>\n",
       "      <td>83.75</td>\n",
       "      <td>80.18</td>\n",
       "      <td>81.18</td>\n",
       "      <td>78616295</td>\n",
       "      <td>-2.52161</td>\n",
       "      <td>15.221032</td>\n",
       "      <td>68230855.0</td>\n",
       "      <td>80.93</td>\n",
       "      <td>79.78</td>\n",
       "      <td>-1.420980</td>\n",
       "      <td>68</td>\n",
       "      <td>0.578960</td>\n",
       "    </tr>\n",
       "    <tr>\n",
       "      <th>747</th>\n",
       "      <td>2</td>\n",
       "      <td>29</td>\n",
       "      <td>6/10/2011</td>\n",
       "      <td>80.93</td>\n",
       "      <td>81.87</td>\n",
       "      <td>79.72</td>\n",
       "      <td>79.78</td>\n",
       "      <td>92380844</td>\n",
       "      <td>-1.42098</td>\n",
       "      <td>17.508519</td>\n",
       "      <td>78616295.0</td>\n",
       "      <td>80.00</td>\n",
       "      <td>79.02</td>\n",
       "      <td>-1.225000</td>\n",
       "      <td>61</td>\n",
       "      <td>0.589120</td>\n",
       "    </tr>\n",
       "    <tr>\n",
       "      <th>748</th>\n",
       "      <td>2</td>\n",
       "      <td>29</td>\n",
       "      <td>6/17/2011</td>\n",
       "      <td>80.00</td>\n",
       "      <td>80.82</td>\n",
       "      <td>78.33</td>\n",
       "      <td>79.02</td>\n",
       "      <td>100521400</td>\n",
       "      <td>-1.22500</td>\n",
       "      <td>8.811952</td>\n",
       "      <td>92380844.0</td>\n",
       "      <td>78.65</td>\n",
       "      <td>76.78</td>\n",
       "      <td>-2.377620</td>\n",
       "      <td>54</td>\n",
       "      <td>0.594786</td>\n",
       "    </tr>\n",
       "    <tr>\n",
       "      <th>749</th>\n",
       "      <td>2</td>\n",
       "      <td>29</td>\n",
       "      <td>6/24/2011</td>\n",
       "      <td>78.65</td>\n",
       "      <td>81.12</td>\n",
       "      <td>76.78</td>\n",
       "      <td>76.78</td>\n",
       "      <td>118679791</td>\n",
       "      <td>-2.37762</td>\n",
       "      <td>18.064204</td>\n",
       "      <td>100521400.0</td>\n",
       "      <td>76.88</td>\n",
       "      <td>82.01</td>\n",
       "      <td>6.672740</td>\n",
       "      <td>47</td>\n",
       "      <td>0.612139</td>\n",
       "    </tr>\n",
       "  </tbody>\n",
       "</table>\n",
       "<p>750 rows × 16 columns</p>\n",
       "</div>"
      ],
      "text/plain": [
       "     quarter  stock       date   open   high    low  close     volume  \\\n",
       "0          1      0   1/7/2011  15.82  16.72  15.78  16.42  239655616   \n",
       "1          1      0  1/14/2011  16.71  16.71  15.64  15.97  242963398   \n",
       "2          1      0  1/21/2011  16.19  16.38  15.60  15.79  138428495   \n",
       "3          1      0  1/28/2011  15.87  16.63  15.82  16.13  151379173   \n",
       "4          1      0   2/4/2011  16.18  17.39  16.18  17.14  154387761   \n",
       "..       ...    ...        ...    ...    ...    ...    ...        ...   \n",
       "745        2     29  5/27/2011  80.22  82.63  80.07  82.63   68230855   \n",
       "746        2     29   6/3/2011  83.28  83.75  80.18  81.18   78616295   \n",
       "747        2     29  6/10/2011  80.93  81.87  79.72  79.78   92380844   \n",
       "748        2     29  6/17/2011  80.00  80.82  78.33  79.02  100521400   \n",
       "749        2     29  6/24/2011  78.65  81.12  76.78  76.78  118679791   \n",
       "\n",
       "     percent_change_price  percent_change_volume_over_last_wk  \\\n",
       "0                 3.79267                            0.000000   \n",
       "1                -4.42849                            1.380223   \n",
       "2                -2.47066                          -43.024959   \n",
       "3                 1.63831                            9.355500   \n",
       "4                 5.93325                            1.987452   \n",
       "..                    ...                                 ...   \n",
       "745               3.00424                          -21.355713   \n",
       "746              -2.52161                           15.221032   \n",
       "747              -1.42098                           17.508519   \n",
       "748              -1.22500                            8.811952   \n",
       "749              -2.37762                           18.064204   \n",
       "\n",
       "     previous_weeks_volume  next_weeks_open  next_weeks_close  \\\n",
       "0                      0.0            16.71             15.97   \n",
       "1              239655616.0            16.19             15.79   \n",
       "2              242963398.0            15.87             16.13   \n",
       "3              138428495.0            16.18             17.14   \n",
       "4              151379173.0            17.33             17.37   \n",
       "..                     ...              ...               ...   \n",
       "745             86758820.0            83.28             81.18   \n",
       "746             68230855.0            80.93             79.78   \n",
       "747             78616295.0            80.00             79.02   \n",
       "748             92380844.0            78.65             76.78   \n",
       "749            100521400.0            76.88             82.01   \n",
       "\n",
       "     percent_change_next_weeks_price  days_to_next_dividend  \\\n",
       "0                          -4.428490                     26   \n",
       "1                          -2.470660                     19   \n",
       "2                           1.638310                     12   \n",
       "3                           5.933250                      5   \n",
       "4                           0.230814                     97   \n",
       "..                               ...                    ...   \n",
       "745                        -2.521610                     75   \n",
       "746                        -1.420980                     68   \n",
       "747                        -1.225000                     61   \n",
       "748                        -2.377620                     54   \n",
       "749                         6.672740                     47   \n",
       "\n",
       "     percent_return_next_dividend  \n",
       "0                        0.182704  \n",
       "1                        0.187852  \n",
       "2                        0.189994  \n",
       "3                        0.185989  \n",
       "4                        0.175029  \n",
       "..                            ...  \n",
       "745                      0.568801  \n",
       "746                      0.578960  \n",
       "747                      0.589120  \n",
       "748                      0.594786  \n",
       "749                      0.612139  \n",
       "\n",
       "[750 rows x 16 columns]"
      ]
     },
     "execution_count": 54,
     "metadata": {},
     "output_type": "execute_result"
    }
   ],
   "source": [
    "data"
   ]
  },
  {
   "cell_type": "code",
   "execution_count": 55,
   "id": "ecb74345",
   "metadata": {},
   "outputs": [
    {
     "name": "stdout",
     "output_type": "stream",
     "text": [
      "<class 'pandas.core.frame.DataFrame'>\n",
      "RangeIndex: 750 entries, 0 to 749\n",
      "Data columns (total 16 columns):\n",
      " #   Column                              Non-Null Count  Dtype  \n",
      "---  ------                              --------------  -----  \n",
      " 0   quarter                             750 non-null    int64  \n",
      " 1   stock                               750 non-null    int32  \n",
      " 2   date                                750 non-null    object \n",
      " 3   open                                750 non-null    float64\n",
      " 4   high                                750 non-null    float64\n",
      " 5   low                                 750 non-null    float64\n",
      " 6   close                               750 non-null    float64\n",
      " 7   volume                              750 non-null    int64  \n",
      " 8   percent_change_price                750 non-null    float64\n",
      " 9   percent_change_volume_over_last_wk  750 non-null    float64\n",
      " 10  previous_weeks_volume               750 non-null    float64\n",
      " 11  next_weeks_open                     750 non-null    float64\n",
      " 12  next_weeks_close                    750 non-null    float64\n",
      " 13  percent_change_next_weeks_price     750 non-null    float64\n",
      " 14  days_to_next_dividend               750 non-null    int64  \n",
      " 15  percent_return_next_dividend        750 non-null    float64\n",
      "dtypes: float64(11), int32(1), int64(3), object(1)\n",
      "memory usage: 90.9+ KB\n"
     ]
    }
   ],
   "source": [
    "data.info()"
   ]
  },
  {
   "cell_type": "code",
   "execution_count": 56,
   "id": "15594bb6",
   "metadata": {},
   "outputs": [
    {
     "data": {
      "text/plain": [
       "['date']"
      ]
     },
     "execution_count": 56,
     "metadata": {},
     "output_type": "execute_result"
    }
   ],
   "source": [
    "categorical = [cols for cols in data.columns if data[cols].dtype=='O']\n",
    "categorical"
   ]
  },
  {
   "cell_type": "code",
   "execution_count": 57,
   "id": "7da0a17c",
   "metadata": {},
   "outputs": [
    {
     "data": {
      "text/plain": [
       "['quarter',\n",
       " 'stock',\n",
       " 'open',\n",
       " 'high',\n",
       " 'low',\n",
       " 'close',\n",
       " 'volume',\n",
       " 'percent_change_price',\n",
       " 'percent_change_volume_over_last_wk',\n",
       " 'previous_weeks_volume',\n",
       " 'next_weeks_open',\n",
       " 'next_weeks_close',\n",
       " 'percent_change_next_weeks_price',\n",
       " 'days_to_next_dividend',\n",
       " 'percent_return_next_dividend']"
      ]
     },
     "execution_count": 57,
     "metadata": {},
     "output_type": "execute_result"
    }
   ],
   "source": [
    "numerical = [cols for cols in data.columns if data[cols].dtype!='O']\n",
    "numerical"
   ]
  },
  {
   "cell_type": "code",
   "execution_count": 58,
   "id": "425325f9",
   "metadata": {},
   "outputs": [],
   "source": [
    "cols=['open','high','low','volume','close','percent_change_price','percent_change_volume_over_last_wk','previous_weeks_volume','next_weeks_open','next_weeks_close','percent_change_next_weeks_price','days_to_next_dividend','percent_return_next_dividend']\n",
    "X=data[cols]\n",
    "y=data['stock']"
   ]
  },
  {
   "cell_type": "code",
   "execution_count": 59,
   "id": "874496ab",
   "metadata": {},
   "outputs": [],
   "source": [
    "from sklearn.model_selection import train_test_split\n",
    "X_train, X_test, y_train, y_test = train_test_split(X, y, test_size = 0.2)"
   ]
  },
  {
   "cell_type": "code",
   "execution_count": 60,
   "id": "342c2aba",
   "metadata": {},
   "outputs": [],
   "source": [
    "from sklearn.preprocessing import StandardScaler\n",
    "sc = StandardScaler()\n",
    "X_train = sc.fit_transform(X_train)\n",
    "X_test = sc.transform(X_test)"
   ]
  },
  {
   "cell_type": "code",
   "execution_count": 61,
   "id": "fd6500e8",
   "metadata": {},
   "outputs": [
    {
     "data": {
      "text/plain": [
       "GaussianNB()"
      ]
     },
     "execution_count": 61,
     "metadata": {},
     "output_type": "execute_result"
    }
   ],
   "source": [
    "from sklearn.naive_bayes import GaussianNB\n",
    "classifier = GaussianNB()\n",
    "classifier.fit(X_train, y_train)"
   ]
  },
  {
   "cell_type": "code",
   "execution_count": 62,
   "id": "145f54b3",
   "metadata": {},
   "outputs": [
    {
     "data": {
      "text/plain": [
       "array([19, 19,  2, 22, 23, 10,  5, 14, 21,  2, 16,  1, 24, 12, 11, 19, 19,\n",
       "       17, 23, 19,  9, 18, 19, 18, 12,  7, 18, 25,  7,  0,  0, 27, 25,  6,\n",
       "       27, 20, 23,  7,  7,  9, 13,  4,  9, 24,  0, 17, 24, 19,  2, 20, 23,\n",
       "       16, 12, 15,  2, 11, 17, 24, 17,  7, 28,  6, 10, 29, 18,  9,  4, 27,\n",
       "       23,  6, 21,  7, 16,  5,  6,  2, 27, 27,  3, 19, 20, 11, 18,  4, 15,\n",
       "       28, 12,  2, 29,  5, 26, 20, 19, 26, 13, 17, 13, 14, 15,  3, 19, 28,\n",
       "       21,  2, 13, 17, 24,  5, 24,  9,  6,  0, 26, 18, 28, 18,  8,  4,  9,\n",
       "        6, 27, 28,  7, 24, 13, 25,  5, 24, 26,  6,  7,  3,  6, 18, 13, 22,\n",
       "       16, 12,  9, 28, 29, 23,  6, 13,  3,  3,  7, 10, 21, 27])"
      ]
     },
     "execution_count": 62,
     "metadata": {},
     "output_type": "execute_result"
    }
   ],
   "source": [
    "y_pred = classifier.predict(X_test) \n",
    "y_pred"
   ]
  },
  {
   "cell_type": "code",
   "execution_count": 63,
   "id": "1ed2259d",
   "metadata": {},
   "outputs": [],
   "source": [
    "from sklearn.metrics import confusion_matrix\n",
    "cm = confusion_matrix(y_test, y_pred)"
   ]
  },
  {
   "cell_type": "code",
   "execution_count": 64,
   "id": "5656a852",
   "metadata": {},
   "outputs": [
    {
     "name": "stdout",
     "output_type": "stream",
     "text": [
      "Accuracy :  0.96\n",
      "[[ 4  0  0  0  0  0  0  0  0  0  0  0  0  0  0  0  0  0  0  0  0  0  0  0\n",
      "   0  0  0  0  0  0]\n",
      " [ 0  1  0  0  0  0  0  0  0  0  0  0  0  0  0  0  0  0  0  0  0  0  0  0\n",
      "   0  0  0  0  0  0]\n",
      " [ 0  0  7  0  0  0  0  0  0  0  0  0  0  0  0  0  0  0  0  0  0  0  0  0\n",
      "   0  0  0  0  0  0]\n",
      " [ 0  0  0  5  0  0  0  0  0  0  0  0  0  0  0  0  0  0  0  0  0  0  0  0\n",
      "   0  0  0  0  0  0]\n",
      " [ 0  0  0  0  4  0  0  0  0  0  0  0  0  0  0  0  0  0  0  0  0  0  0  0\n",
      "   0  0  0  0  0  0]\n",
      " [ 0  0  0  0  0  5  0  0  0  0  0  0  0  0  0  0  0  0  0  0  0  0  0  0\n",
      "   0  0  0  0  0  0]\n",
      " [ 0  0  0  0  0  0  9  0  0  0  0  0  0  0  0  0  0  0  0  0  0  0  0  0\n",
      "   0  0  0  0  0  0]\n",
      " [ 0  0  0  0  0  0  0  8  0  0  0  0  0  0  0  0  0  0  0  0  0  0  0  0\n",
      "   0  0  0  0  0  0]\n",
      " [ 0  0  0  0  0  0  0  0  1  0  0  0  0  0  0  0  0  0  0  0  0  0  0  0\n",
      "   0  0  0  0  0  0]\n",
      " [ 0  0  0  0  0  0  0  0  0  7  0  0  0  0  0  0  0  0  0  0  0  0  0  0\n",
      "   0  0  0  0  0  0]\n",
      " [ 0  0  0  0  0  0  0  0  0  0  3  0  0  0  0  0  0  0  0  0  0  0  0  0\n",
      "   0  0  0  0  0  0]\n",
      " [ 0  0  0  0  0  0  0  0  0  0  0  3  0  0  0  0  0  0  0  0  0  0  0  0\n",
      "   0  0  0  0  0  0]\n",
      " [ 0  0  0  0  0  0  0  0  0  0  0  0  5  0  0  0  0  0  0  0  0  0  0  0\n",
      "   0  0  0  0  0  0]\n",
      " [ 0  0  0  0  0  0  0  0  0  0  0  0  0  7  0  0  0  0  0  0  0  0  0  0\n",
      "   0  0  0  0  0  0]\n",
      " [ 0  0  0  0  0  0  0  0  0  0  0  0  0  0  2  0  0  0  0  0  0  0  0  2\n",
      "   0  0  0  0  0  0]\n",
      " [ 0  0  0  0  0  0  0  0  0  0  0  0  0  0  0  3  0  0  0  0  0  0  0  0\n",
      "   0  0  0  0  0  0]\n",
      " [ 0  0  0  0  0  0  0  0  0  0  0  0  0  0  0  0  3  0  0  0  0  0  0  1\n",
      "   0  0  0  0  0  0]\n",
      " [ 0  0  0  0  0  0  0  0  0  0  0  0  0  0  0  0  0  6  0  0  0  0  0  0\n",
      "   0  0  0  0  0  0]\n",
      " [ 0  0  0  0  0  0  0  0  0  0  0  0  0  0  0  0  0  0  8  0  0  0  0  0\n",
      "   0  0  0  0  0  0]\n",
      " [ 0  0  0  0  0  0  0  0  0  0  0  0  0  0  0  0  0  0  0 10  0  0  0  0\n",
      "   0  0  0  0  0  0]\n",
      " [ 0  0  0  0  0  0  0  0  0  0  0  0  0  0  0  0  0  0  0  0  4  0  0  0\n",
      "   0  0  0  0  0  0]\n",
      " [ 0  0  0  0  0  0  0  0  0  0  0  0  0  0  0  0  0  0  0  0  0  4  0  0\n",
      "   0  0  0  0  0  0]\n",
      " [ 0  0  0  0  0  0  0  0  0  0  0  0  0  0  0  0  0  0  0  0  0  0  2  0\n",
      "   0  0  0  0  0  0]\n",
      " [ 0  0  0  0  0  0  0  0  0  0  0  0  0  0  0  0  1  0  0  0  0  0  0  3\n",
      "   0  0  0  0  0  0]\n",
      " [ 0  0  0  0  0  0  0  0  0  0  0  0  0  0  0  0  0  0  0  0  0  0  0  0\n",
      "   8  0  0  0  0  0]\n",
      " [ 0  0  0  0  0  0  0  1  0  0  0  0  0  0  0  0  0  0  0  0  0  0  0  0\n",
      "   0  3  0  0  1  0]\n",
      " [ 0  0  0  0  0  0  0  0  0  0  0  0  0  0  0  0  0  0  0  0  0  0  0  0\n",
      "   0  0  4  0  0  0]\n",
      " [ 0  0  0  0  0  0  0  0  0  0  0  0  0  0  0  0  0  0  0  0  0  0  0  0\n",
      "   0  0  0  7  0  0]\n",
      " [ 0  0  0  0  0  0  0  0  0  0  0  0  0  0  0  0  0  0  0  0  0  0  0  0\n",
      "   0  0  0  0  5  0]\n",
      " [ 0  0  0  0  0  0  0  0  0  0  0  0  0  0  0  0  0  0  0  0  0  0  0  0\n",
      "   0  0  0  0  0  3]]\n"
     ]
    }
   ],
   "source": [
    "from sklearn.metrics import accuracy_score \n",
    "print (\"Accuracy : \", accuracy_score(y_test, y_pred))\n",
    "print(cm)"
   ]
  },
  {
   "cell_type": "code",
   "execution_count": 65,
   "id": "e25c1c1d",
   "metadata": {},
   "outputs": [
    {
     "name": "stdout",
     "output_type": "stream",
     "text": [
      "              precision    recall  f1-score   support\n",
      "\n",
      "           0       1.00      1.00      1.00         4\n",
      "           1       1.00      1.00      1.00         1\n",
      "           2       1.00      1.00      1.00         7\n",
      "           3       1.00      1.00      1.00         5\n",
      "           4       1.00      1.00      1.00         4\n",
      "           5       1.00      1.00      1.00         5\n",
      "           6       1.00      1.00      1.00         9\n",
      "           7       0.89      1.00      0.94         8\n",
      "           8       1.00      1.00      1.00         1\n",
      "           9       1.00      1.00      1.00         7\n",
      "          10       1.00      1.00      1.00         3\n",
      "          11       1.00      1.00      1.00         3\n",
      "          12       1.00      1.00      1.00         5\n",
      "          13       1.00      1.00      1.00         7\n",
      "          14       1.00      0.50      0.67         4\n",
      "          15       1.00      1.00      1.00         3\n",
      "          16       0.75      0.75      0.75         4\n",
      "          17       1.00      1.00      1.00         6\n",
      "          18       1.00      1.00      1.00         8\n",
      "          19       1.00      1.00      1.00        10\n",
      "          20       1.00      1.00      1.00         4\n",
      "          21       1.00      1.00      1.00         4\n",
      "          22       1.00      1.00      1.00         2\n",
      "          23       0.50      0.75      0.60         4\n",
      "          24       1.00      1.00      1.00         8\n",
      "          25       1.00      0.60      0.75         5\n",
      "          26       1.00      1.00      1.00         4\n",
      "          27       1.00      1.00      1.00         7\n",
      "          28       0.83      1.00      0.91         5\n",
      "          29       1.00      1.00      1.00         3\n",
      "\n",
      "    accuracy                           0.96       150\n",
      "   macro avg       0.97      0.95      0.95       150\n",
      "weighted avg       0.97      0.96      0.96       150\n",
      "\n"
     ]
    }
   ],
   "source": [
    "from sklearn.metrics import classification_report\n",
    "print(classification_report(y_test,y_pred))"
   ]
  },
  {
   "cell_type": "code",
   "execution_count": 70,
   "id": "9d9322a8",
   "metadata": {},
   "outputs": [],
   "source": [
    "from sklearn.model_selection import KFold\n",
    "from sklearn.metrics import mean_absolute_error\n",
    "kf = KFold(n_splits=20)\n",
    "list_training_error = []\n",
    "list_testing_error = []\n",
    "\n",
    "for train_index, test_index in kf.split(X):\n",
    "    X_train, X_test = X[train_index], X[test_index]\n",
    "    y_train, y_test = y[train_index], y[test_index]\n",
    "    model = GaussianNB()\n",
    "    model.fit(X_train, y_train)\n",
    "    y_train_data_pred = model.predict(X_train)\n",
    "    y_test_data_pred = model.predict(X_test)    \n",
    "    fold_training_error = mean_absolute_error(y_train, y_train_data_pred) \n",
    "    fold_testing_error = mean_absolute_error(y_test, y_test_data_pred)\n",
    "    list_training_error.append(fold_training_error)\n",
    "    list_testing_error.append(fold_testing_error)"
   ]
  },
  {
   "cell_type": "code",
   "execution_count": 71,
   "id": "7703c30c",
   "metadata": {},
   "outputs": [
    {
     "data": {
      "image/png": "[encoded data removed]",
      "text/plain": [
       "<Figure size 432x288 with 2 Axes>"
      ]
     },
     "metadata": {
      "needs_background": "light"
     },
     "output_type": "display_data"
    }
   ],
   "source": [
    "plt.subplot(1,2,1)\n",
    "plt.plot(range(1, kf.get_n_splits() + 1), np.array(list_training_error).ravel(), 'o-')\n",
    "plt.xlabel('number of fold')\n",
    "plt.ylabel('training error')\n",
    "plt.title('Training error across folds')\n",
    "plt.tight_layout()\n",
    "plt.subplot(1,2,2)\n",
    "\n",
    "plt.plot(range(1, kf.get_n_splits() + 1), np.array(list_testing_error).ravel(), 'o-')\n",
    "plt.xlabel('number of fold')\n",
    "plt.ylabel('testing error')\n",
    "plt.title('Testing error across folds')\n",
    "plt.tight_layout()\n",
    "plt.show()"
   ]
  },
  {
   "cell_type": "code",
   "execution_count": null,
   "id": "ae95ce8d",
   "metadata": {},
   "outputs": [],
   "source": []
  }
 ],
 "metadata": {
  "kernelspec": {
   "display_name": "Python 3 (ipykernel)",
   "language": "python",
   "name": "python3"
  },
  "language_info": {
   "codemirror_mode": {
    "name": "ipython",
    "version": 3
   },
   "file_extension": ".py",
   "mimetype": "text/x-python",
   "name": "python",
   "nbconvert_exporter": "python",
   "pygments_lexer": "ipython3",
   "version": "3.9.7"
  }
 },
 "nbformat": 4,
 "nbformat_minor": 5
}
